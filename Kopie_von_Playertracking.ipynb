{
  "nbformat": 4,
  "nbformat_minor": 0,
  "metadata": {
    "colab": {
      "provenance": [],
      "authorship_tag": "ABX9TyNl4XYITb4MxPxWqrn6I78g",
      "include_colab_link": true
    },
    "kernelspec": {
      "name": "python3",
      "display_name": "Python 3"
    },
    "language_info": {
      "name": "python"
    }
  },
  "cells": [
    {
      "cell_type": "markdown",
      "metadata": {
        "id": "view-in-github",
        "colab_type": "text"
      },
      "source": [
        "<a href=\"https://colab.research.google.com/github/Harmswing18/Volleyballplayer_Tracking/blob/main/Kopie_von_Playertracking.ipynb\" target=\"_parent\"><img src=\"https://colab.research.google.com/assets/colab-badge.svg\" alt=\"Open In Colab\"/></a>"
      ]
    },
    {
      "cell_type": "code",
      "execution_count": 6,
      "metadata": {
        "colab": {
          "base_uri": "https://localhost:8080/"
        },
        "id": "QiJrXj-2JPo5",
        "outputId": "05e15dbe-3b59-4ba2-8fe0-b0b717f76b81"
      },
      "outputs": [
        {
          "output_type": "stream",
          "name": "stdout",
          "text": [
            "Drive already mounted at /content/drive; to attempt to forcibly remount, call drive.mount(\"/content/drive\", force_remount=True).\n",
            "/content/drive/MyDrive/Github\n"
          ]
        }
      ],
      "source": [
        "from google.colab import drive\n",
        "drive.mount('/content/drive')\n",
        "%cd /content/drive/MyDrive/Github/"
      ]
    },
    {
      "cell_type": "code",
      "source": [
        "!pip -q install ultralytics supervision opencv-python tqdm"
      ],
      "metadata": {
        "colab": {
          "base_uri": "https://localhost:8080/"
        },
        "id": "nHBplP14JWpI",
        "outputId": "83b4841b-f285-43f9-d3ff-3a4dabfc5113"
      },
      "execution_count": 4,
      "outputs": [
        {
          "output_type": "stream",
          "name": "stdout",
          "text": [
            "\u001b[?25l   \u001b[90m━━━━━━━━━━━━━━━━━━━━━━━━━━━━━━━━━━━━━━━━\u001b[0m \u001b[32m0.0/1.1 MB\u001b[0m \u001b[31m?\u001b[0m eta \u001b[36m-:--:--\u001b[0m\r\u001b[2K   \u001b[91m━━━━━━━━━━━━━━━━━━━━━━━━━━━━━━━━━━━━━━━\u001b[0m\u001b[91m╸\u001b[0m \u001b[32m1.1/1.1 MB\u001b[0m \u001b[31m93.8 MB/s\u001b[0m eta \u001b[36m0:00:01\u001b[0m\r\u001b[2K   \u001b[90m━━━━━━━━━━━━━━━━━━━━━━━━━━━━━━━━━━━━━━━━\u001b[0m \u001b[32m1.1/1.1 MB\u001b[0m \u001b[31m23.3 MB/s\u001b[0m eta \u001b[36m0:00:00\u001b[0m\n",
            "\u001b[?25h\u001b[?25l   \u001b[90m━━━━━━━━━━━━━━━━━━━━━━━━━━━━━━━━━━━━━━━━\u001b[0m \u001b[32m0.0/207.2 kB\u001b[0m \u001b[31m?\u001b[0m eta \u001b[36m-:--:--\u001b[0m\r\u001b[2K   \u001b[90m━━━━━━━━━━━━━━━━━━━━━━━━━━━━━━━━━━━━━━━━\u001b[0m \u001b[32m207.2/207.2 kB\u001b[0m \u001b[31m9.3 MB/s\u001b[0m eta \u001b[36m0:00:00\u001b[0m\n",
            "\u001b[?25h"
          ]
        }
      ]
    },
    {
      "cell_type": "code",
      "source": [
        "import torch\n",
        "DEVICE = \"cuda:0\" if torch.cuda.is_available() else \"cpu\"\n",
        "print(\"Using device:\", DEVICE)"
      ],
      "metadata": {
        "colab": {
          "base_uri": "https://localhost:8080/"
        },
        "id": "zEhHP2jsJmlN",
        "outputId": "3ef1aaa0-2106-45e6-b967-341ad912ac4f"
      },
      "execution_count": 2,
      "outputs": [
        {
          "output_type": "stream",
          "name": "stdout",
          "text": [
            "Using device: cpu\n"
          ]
        }
      ]
    },
    {
      "cell_type": "code",
      "source": [
        "!ffmpeg -y -err_detect ignore_err -i \"/content/drive/MyDrive/Github/Kopie von test_converted.mp4\" \\\n",
        "  -c copy -movflags faststart \"/content/local_input_fixed.mp4\"\n"
      ],
      "metadata": {
        "colab": {
          "base_uri": "https://localhost:8080/"
        },
        "id": "aX50OkFeWSWN",
        "outputId": "f36dd7b3-6931-481c-df8b-c1b5e43a48d8"
      },
      "execution_count": 9,
      "outputs": [
        {
          "output_type": "stream",
          "name": "stdout",
          "text": [
            "ffmpeg version 4.4.2-0ubuntu0.22.04.1 Copyright (c) 2000-2021 the FFmpeg developers\n",
            "  built with gcc 11 (Ubuntu 11.2.0-19ubuntu1)\n",
            "  configuration: --prefix=/usr --extra-version=0ubuntu0.22.04.1 --toolchain=hardened --libdir=/usr/lib/x86_64-linux-gnu --incdir=/usr/include/x86_64-linux-gnu --arch=amd64 --enable-gpl --disable-stripping --enable-gnutls --enable-ladspa --enable-libaom --enable-libass --enable-libbluray --enable-libbs2b --enable-libcaca --enable-libcdio --enable-libcodec2 --enable-libdav1d --enable-libflite --enable-libfontconfig --enable-libfreetype --enable-libfribidi --enable-libgme --enable-libgsm --enable-libjack --enable-libmp3lame --enable-libmysofa --enable-libopenjpeg --enable-libopenmpt --enable-libopus --enable-libpulse --enable-librabbitmq --enable-librubberband --enable-libshine --enable-libsnappy --enable-libsoxr --enable-libspeex --enable-libsrt --enable-libssh --enable-libtheora --enable-libtwolame --enable-libvidstab --enable-libvorbis --enable-libvpx --enable-libwebp --enable-libx265 --enable-libxml2 --enable-libxvid --enable-libzimg --enable-libzmq --enable-libzvbi --enable-lv2 --enable-omx --enable-openal --enable-opencl --enable-opengl --enable-sdl2 --enable-pocketsphinx --enable-librsvg --enable-libmfx --enable-libdc1394 --enable-libdrm --enable-libiec61883 --enable-chromaprint --enable-frei0r --enable-libx264 --enable-shared\n",
            "  libavutil      56. 70.100 / 56. 70.100\n",
            "  libavcodec     58.134.100 / 58.134.100\n",
            "  libavformat    58. 76.100 / 58. 76.100\n",
            "  libavdevice    58. 13.100 / 58. 13.100\n",
            "  libavfilter     7.110.100 /  7.110.100\n",
            "  libswscale      5.  9.100 /  5.  9.100\n",
            "  libswresample   3.  9.100 /  3.  9.100\n",
            "  libpostproc    55.  9.100 / 55.  9.100\n",
            "\u001b[0;35m[mov,mp4,m4a,3gp,3g2,mj2 @ 0x5d10297c5f40] \u001b[0m\u001b[1;31mmoov atom not found\n",
            "\u001b[0m\u001b[1;31m/content/drive/MyDrive/Github/Kopie von test_converted.mp4: Invalid data found when processing input\n",
            "\u001b[0m"
          ]
        }
      ]
    },
    {
      "cell_type": "code",
      "source": [
        "import os, cv2, numpy as np, torch\n",
        "from ultralytics import YOLO\n",
        "import supervision as sv\n",
        "\n",
        "# =====================\n",
        "# Konfiguration\n",
        "# =====================\n",
        "NUM_MODEL_PATH = \"/content/drive/MyDrive/Github/weights/Kopie von best.pt\"     # dein Rückennummernmodell\n",
        "VIDEO_PATH_DRIVE = \"/content/drive/MyDrive/Github/Kopie von Testsnippet Karlsruhe noch kleiner – Mit Clipchamp erstellt.mp4\"       # Inputvideo in Drive\n",
        "VIDEO_PATH = \"/content/local_input.mp4\"                               # lokale Kopie\n",
        "OUT_PATH   = \"/content/debug_tracked.mp4\"                             # Ausgabevideo\n",
        "\n",
        "!cp \"$VIDEO_PATH_DRIVE\" \"$VIDEO_PATH\"\n",
        "\n",
        "DEVICE    = \"cuda:0\" if torch.cuda.is_available() else \"cpu\"\n",
        "NUM_IMGSZ = 1280\n",
        "PER_IMGSZ = 960\n",
        "NUM_CONF  = 0.1\n",
        "PER_CONF  = 0.25\n",
        "\n",
        "TARGET_CLASSES = [\"Libero-Nr.-15\", \"Opposite-Nr.-4\"]\n",
        "VOTE_WINDOW = 5   # wie viele Frames für Mehrheitsvoting\n",
        "\n",
        "print(\"Using device:\", DEVICE)\n",
        "\n",
        "# =====================\n",
        "# Hilfsfunktionen\n",
        "# =====================\n",
        "def keep_one_per_class(det_list):\n",
        "    \"\"\"Behält pro Klasse die Detection mit höchster Confidence.\"\"\"\n",
        "    best = {}\n",
        "    for bbox, cls_name, conf in det_list:\n",
        "        if cls_name not in best or conf > best[cls_name][2]:\n",
        "            best[cls_name] = (bbox, cls_name, conf)\n",
        "    return list(best.values())\n",
        "\n",
        "def compute_iou(boxA, boxB):\n",
        "    \"\"\"IOU zwischen zwei Boxen [x1,y1,x2,y2].\"\"\"\n",
        "    xA = max(boxA[0], boxB[0])\n",
        "    yA = max(boxA[1], boxB[1])\n",
        "    xB = min(boxA[2], boxB[2])\n",
        "    yB = min(boxA[3], boxB[3])\n",
        "    inter = max(0, xB - xA) * max(0, yB - yA)\n",
        "    if inter == 0: return 0.0\n",
        "    areaA = (boxA[2] - boxA[0]) * (boxA[3] - boxA[1])\n",
        "    areaB = (boxB[2] - boxB[0]) * (boxB[3] - boxB[1])\n",
        "    return inter / float(areaA + areaB - inter)\n",
        "\n",
        "# =====================\n",
        "# Modelle laden\n",
        "# =====================\n",
        "num_model = YOLO(NUM_MODEL_PATH)\n",
        "per_model = YOLO(\"yolov8n.pt\")\n",
        "num_names = num_model.names\n",
        "per_names = per_model.names\n",
        "\n",
        "# =====================\n",
        "# Video Setup\n",
        "# =====================\n",
        "cap = cv2.VideoCapture(VIDEO_PATH)\n",
        "assert cap.isOpened(), f\"Kann Video nicht öffnen: {VIDEO_PATH}\"\n",
        "\n",
        "fps = cap.get(cv2.CAP_PROP_FPS) or 25\n",
        "W   = int(cap.get(cv2.CAP_PROP_FRAME_WIDTH))\n",
        "H   = int(cap.get(cv2.CAP_PROP_FRAME_HEIGHT))\n",
        "print(\"Video Info:\", W, \"x\", H, \"FPS:\", fps)\n",
        "\n",
        "fourcc = cv2.VideoWriter_fourcc(*'mp4v')\n",
        "out = cv2.VideoWriter(OUT_PATH, fourcc, fps, (W, H))\n",
        "assert out.isOpened(), \"Writer nicht geöffnet\"\n",
        "\n",
        "# =====================\n",
        "# Tracker + Annotatoren\n",
        "# =====================\n",
        "player_tracker  = sv.ByteTrack()\n",
        "box_annotator   = sv.BoxAnnotator(thickness=2)\n",
        "label_annotator = sv.LabelAnnotator(text_thickness=2, text_scale=0.7)\n",
        "\n",
        "tid_to_number = {}       # TrackID -> stabilisierte Nummer\n",
        "tid_to_votes  = {}       # TrackID -> Liste letzter Nummern für Voting\n",
        "tid_to_conf   = {}       # TrackID -> Confidence bei Erstzuordnung\n",
        "\n",
        "frame_idx = 0\n",
        "\n",
        "while True:\n",
        "    ok, frame = cap.read()\n",
        "    if not ok or frame is None:\n",
        "        print(\"Ende erreicht oder kein Frame.\")\n",
        "        break\n",
        "\n",
        "    frame_out = frame.copy()\n",
        "\n",
        "    # -----------------\n",
        "    # Nummern-Detektion\n",
        "    # -----------------\n",
        "    r_num = num_model(frame, imgsz=NUM_IMGSZ, conf=NUM_CONF, device=DEVICE, verbose=False)[0]\n",
        "    raw_num = sv.Detections.from_ultralytics(r_num)\n",
        "\n",
        "    filtered = []\n",
        "    for i in range(len(raw_num.xyxy)):\n",
        "        cls_id = int(raw_num.class_id[i])\n",
        "        cls_name = num_names[cls_id]\n",
        "        if cls_name in TARGET_CLASSES:\n",
        "            bbox = raw_num.xyxy[i]\n",
        "            conf = float(raw_num.confidence[i])\n",
        "            filtered.append((bbox, cls_name, conf))\n",
        "\n",
        "    filtered = keep_one_per_class(filtered)\n",
        "\n",
        "    # -----------------\n",
        "    # Personen-Detektion\n",
        "    # -----------------\n",
        "    r_per = per_model(frame, imgsz=PER_IMGSZ, conf=PER_CONF, device=DEVICE, verbose=False)[0]\n",
        "    per_dets_all = sv.Detections.from_ultralytics(r_per)\n",
        "    mask = [per_names[int(cid)] == \"person\" for cid in per_dets_all.class_id]\n",
        "    per_dets = per_dets_all[np.array(mask)]\n",
        "\n",
        "    # -----------------\n",
        "    # Tracking\n",
        "    # -----------------\n",
        "    tracks = player_tracker.update_with_detections(per_dets) if len(per_dets) > 0 else sv.Detections.empty()\n",
        "\n",
        "    # -----------------\n",
        "    # Nummern -> Tracks (IOU Matching + Voting)\n",
        "    # -----------------\n",
        "    if len(tracks) > 0 and len(filtered) > 0:\n",
        "        for (bbox, cls_name, conf) in filtered:\n",
        "            best_tid, best_iou = None, 0\n",
        "            for tbox, tid in zip(tracks.xyxy, tracks.tracker_id):\n",
        "                iou = compute_iou(bbox, tbox)\n",
        "                if iou > best_iou:\n",
        "                    best_iou = iou\n",
        "                    best_tid = int(tid)\n",
        "            if best_tid is not None and best_iou > 0.1:  # min. IOU Schwelle\n",
        "                # Voting eintragen\n",
        "                tid_to_votes.setdefault(best_tid, []).append(cls_name)\n",
        "                if len(tid_to_votes[best_tid]) > VOTE_WINDOW:\n",
        "                    tid_to_votes[best_tid].pop(0)\n",
        "                # Stabilisierte Nummer = Mehrheitsentscheidung\n",
        "                voted = max(set(tid_to_votes[best_tid]), key=tid_to_votes[best_tid].count)\n",
        "                tid_to_number[best_tid] = voted\n",
        "                tid_to_conf[best_tid]   = max(conf, tid_to_conf.get(best_tid, 0))\n",
        "\n",
        "    # -----------------\n",
        "    # Primary Track pro Klasse (höchste Confidence)\n",
        "    # -----------------\n",
        "    number_to_primary_tid = {}\n",
        "    for t_xyxy, t_id in zip(tracks.xyxy, tracks.tracker_id):\n",
        "        t_id = int(t_id)\n",
        "        num_txt = tid_to_number.get(t_id, None)\n",
        "        if num_txt in TARGET_CLASSES:\n",
        "            conf = tid_to_conf.get(t_id, 0)\n",
        "            if (num_txt not in number_to_primary_tid) or (conf > number_to_primary_tid[num_txt][1]):\n",
        "                number_to_primary_tid[num_txt] = (t_id, conf)\n",
        "\n",
        "    # -----------------\n",
        "    # Rendering nur Primary Tracks\n",
        "    # -----------------\n",
        "    draw_labels, draw_tracks = [], []\n",
        "    for t_xyxy, t_id in zip(tracks.xyxy, tracks.tracker_id):\n",
        "        t_id = int(t_id)\n",
        "        num_txt = tid_to_number.get(t_id, None)\n",
        "        if not num_txt:\n",
        "            continue\n",
        "        primary_tid = number_to_primary_tid.get(num_txt, (t_id,0))[0]\n",
        "        if t_id != primary_tid:\n",
        "            continue\n",
        "        draw_labels.append(f\"#{num_txt}\")\n",
        "        draw_tracks.append(t_xyxy)\n",
        "\n",
        "    if draw_tracks:\n",
        "        draw_dets = sv.Detections(\n",
        "            xyxy=np.array(draw_tracks, dtype=float),\n",
        "            confidence=None,\n",
        "            class_id=np.zeros((len(draw_tracks),), dtype=int)\n",
        "        )\n",
        "        frame_out = box_annotator.annotate(frame_out, detections=draw_dets)\n",
        "        frame_out = label_annotator.annotate(frame_out, detections=draw_dets, labels=draw_labels)\n",
        "\n",
        "    cv2.putText(frame_out,\n",
        "                f\"frame={frame_idx} num={len(filtered)} per={len(per_dets)} tracks={len(tracks)}\",\n",
        "                (10,30), cv2.FONT_HERSHEY_SIMPLEX, 1.0, (0,255,255), 2)\n",
        "\n",
        "    out.write(frame_out)\n",
        "    frame_idx += 1\n",
        "\n",
        "cap.release()\n",
        "out.release()\n",
        "print(\"Fertig:\", OUT_PATH, \"size:\", os.path.getsize(OUT_PATH))\n"
      ],
      "metadata": {
        "colab": {
          "base_uri": "https://localhost:8080/"
        },
        "id": "j4yjbMhdSwhE",
        "outputId": "d85a2207-a22d-4aee-92f9-b92bb53197a6"
      },
      "execution_count": null,
      "outputs": [
        {
          "output_type": "stream",
          "name": "stdout",
          "text": [
            "Using device: cpu\n",
            "Video Info: 1920 x 1080 FPS: 30.0\n"
          ]
        }
      ]
    },
    {
      "cell_type": "code",
      "source": [
        "from google.colab import files\n",
        "files.download(OUT_PATH)\n"
      ],
      "metadata": {
        "colab": {
          "base_uri": "https://localhost:8080/",
          "height": 17
        },
        "id": "B-2-gZCUw7RU",
        "outputId": "7d980ba2-0b29-4199-83aa-a579cec96dc2"
      },
      "execution_count": null,
      "outputs": [
        {
          "output_type": "display_data",
          "data": {
            "text/plain": [
              "<IPython.core.display.Javascript object>"
            ],
            "application/javascript": [
              "\n",
              "    async function download(id, filename, size) {\n",
              "      if (!google.colab.kernel.accessAllowed) {\n",
              "        return;\n",
              "      }\n",
              "      const div = document.createElement('div');\n",
              "      const label = document.createElement('label');\n",
              "      label.textContent = `Downloading \"${filename}\": `;\n",
              "      div.appendChild(label);\n",
              "      const progress = document.createElement('progress');\n",
              "      progress.max = size;\n",
              "      div.appendChild(progress);\n",
              "      document.body.appendChild(div);\n",
              "\n",
              "      const buffers = [];\n",
              "      let downloaded = 0;\n",
              "\n",
              "      const channel = await google.colab.kernel.comms.open(id);\n",
              "      // Send a message to notify the kernel that we're ready.\n",
              "      channel.send({})\n",
              "\n",
              "      for await (const message of channel.messages) {\n",
              "        // Send a message to notify the kernel that we're ready.\n",
              "        channel.send({})\n",
              "        if (message.buffers) {\n",
              "          for (const buffer of message.buffers) {\n",
              "            buffers.push(buffer);\n",
              "            downloaded += buffer.byteLength;\n",
              "            progress.value = downloaded;\n",
              "          }\n",
              "        }\n",
              "      }\n",
              "      const blob = new Blob(buffers, {type: 'application/binary'});\n",
              "      const a = document.createElement('a');\n",
              "      a.href = window.URL.createObjectURL(blob);\n",
              "      a.download = filename;\n",
              "      div.appendChild(a);\n",
              "      a.click();\n",
              "      div.remove();\n",
              "    }\n",
              "  "
            ]
          },
          "metadata": {}
        },
        {
          "output_type": "display_data",
          "data": {
            "text/plain": [
              "<IPython.core.display.Javascript object>"
            ],
            "application/javascript": [
              "download(\"download_4d209c6c-c7f6-4712-a6f8-06bf18988c08\", \"debug_tracked.mp4\", 77234184)"
            ]
          },
          "metadata": {}
        }
      ]
    },
    {
      "cell_type": "code",
      "source": [
        "from google.colab import files\n",
        "files.download(OUT_PATH)\n"
      ],
      "metadata": {
        "colab": {
          "base_uri": "https://localhost:8080/",
          "height": 17
        },
        "outputId": "1ae4b82a-a976-4a22-a0c5-d64d2c618e2f",
        "id": "9qGPr2P95RVj"
      },
      "execution_count": null,
      "outputs": [
        {
          "output_type": "display_data",
          "data": {
            "text/plain": [
              "<IPython.core.display.Javascript object>"
            ],
            "application/javascript": [
              "\n",
              "    async function download(id, filename, size) {\n",
              "      if (!google.colab.kernel.accessAllowed) {\n",
              "        return;\n",
              "      }\n",
              "      const div = document.createElement('div');\n",
              "      const label = document.createElement('label');\n",
              "      label.textContent = `Downloading \"${filename}\": `;\n",
              "      div.appendChild(label);\n",
              "      const progress = document.createElement('progress');\n",
              "      progress.max = size;\n",
              "      div.appendChild(progress);\n",
              "      document.body.appendChild(div);\n",
              "\n",
              "      const buffers = [];\n",
              "      let downloaded = 0;\n",
              "\n",
              "      const channel = await google.colab.kernel.comms.open(id);\n",
              "      // Send a message to notify the kernel that we're ready.\n",
              "      channel.send({})\n",
              "\n",
              "      for await (const message of channel.messages) {\n",
              "        // Send a message to notify the kernel that we're ready.\n",
              "        channel.send({})\n",
              "        if (message.buffers) {\n",
              "          for (const buffer of message.buffers) {\n",
              "            buffers.push(buffer);\n",
              "            downloaded += buffer.byteLength;\n",
              "            progress.value = downloaded;\n",
              "          }\n",
              "        }\n",
              "      }\n",
              "      const blob = new Blob(buffers, {type: 'application/binary'});\n",
              "      const a = document.createElement('a');\n",
              "      a.href = window.URL.createObjectURL(blob);\n",
              "      a.download = filename;\n",
              "      div.appendChild(a);\n",
              "      a.click();\n",
              "      div.remove();\n",
              "    }\n",
              "  "
            ]
          },
          "metadata": {}
        },
        {
          "output_type": "display_data",
          "data": {
            "text/plain": [
              "<IPython.core.display.Javascript object>"
            ],
            "application/javascript": [
              "download(\"download_376dff5d-2845-4b5c-a4a5-cfaafe82661d\", \"debug_tracked.mp4\", 81793405)"
            ]
          },
          "metadata": {}
        }
      ]
    }
  ]
}